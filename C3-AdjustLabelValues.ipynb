{
 "cells": [
  {
   "cell_type": "code",
   "execution_count": 3,
   "metadata": {},
   "outputs": [],
   "source": [
    "import SimpleITK as sitk\n",
    "import numpy as np\n",
    "\n",
    "imfn = \"Data\\SPIROMCS-Case43-LabelWrong.nrrd\"\n",
    "iim  = sitk.ReadImage(imfn)\n",
    "inda = sitk.GetArrayFromImage(iim)\n",
    "irel = sitk.GetImageFromArray(inda-1) # Image ReLabeled\n",
    "irel.CopyInformation(iim)\n",
    "sitk.WriteImage(irel, \"Data\\SPIROMCS-Case43-012Scalar.nrrd\") # Has to be further converted to a Labelmap in Slicer"
   ]
  }
 ],
 "metadata": {
  "kernelspec": {
   "display_name": ".venv",
   "language": "python",
   "name": "python3"
  },
  "language_info": {
   "codemirror_mode": {
    "name": "ipython",
    "version": 3
   },
   "file_extension": ".py",
   "mimetype": "text/x-python",
   "name": "python",
   "nbconvert_exporter": "python",
   "pygments_lexer": "ipython3",
   "version": "3.9.16"
  },
  "orig_nbformat": 4
 },
 "nbformat": 4,
 "nbformat_minor": 2
}
