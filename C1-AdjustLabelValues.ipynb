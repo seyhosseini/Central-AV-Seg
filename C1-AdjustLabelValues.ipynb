{
 "cells": [
  {
   "cell_type": "code",
   "execution_count": null,
   "metadata": {},
   "outputs": [],
   "source": [
    "import SimpleITK as sitk\n",
    "import numpy as np\n",
    "\n",
    "imfn    = \"../D-Images/MESAL-7018860-E3/MESAL-7018860-E3_FRC_80kV_0.75mm_Qr40d.nii.gz\"\n",
    "iim     = sitk.ReadImage(imfn)\n",
    "\n",
    "vnda = sitk.GetArrayFromImage(vessim)\n",
    "vnds = np.flip(vnda, axis=0)\n",
    "fvess = sitk.GetImageFromArray(vnds)\n",
    "fvess.CopyInformation(iim)\n",
    "sitk.WriteImage(fvess, \"../D-Images/MESAL-7018860-E3/Vida_Masks/VidaVessels.nii.gz\") # flipped"
   ]
  }
 ],
 "metadata": {
  "kernelspec": {
   "display_name": ".venv",
   "language": "python",
   "name": "python3"
  },
  "language_info": {
   "codemirror_mode": {
    "name": "ipython",
    "version": 3
   },
   "file_extension": ".py",
   "mimetype": "text/x-python",
   "name": "python",
   "nbconvert_exporter": "python",
   "pygments_lexer": "ipython3",
   "version": "3.9.16"
  },
  "orig_nbformat": 4
 },
 "nbformat": 4,
 "nbformat_minor": 2
}
